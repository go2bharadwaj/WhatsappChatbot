{
 "cells": [
  {
   "cell_type": "markdown",
   "metadata": {},
   "source": [
    "# Whatsapp Chat Bot 2\n",
    " * Can send messege to multiple users, including new ones that are registerd in contacts"
   ]
  },
  {
   "cell_type": "code",
   "execution_count": 1,
   "metadata": {
    "ExecuteTime": {
     "end_time": "2020-08-31T01:10:25.312977Z",
     "start_time": "2020-08-31T01:10:19.868269Z"
    },
    "run_control": {
     "marked": false
    }
   },
   "outputs": [
    {
     "name": "stdout",
     "output_type": "stream",
     "text": [
      "Requirement already up-to-date: selenium in c:\\users\\bharadwaj satya\\anaconda3\\lib\\site-packages (3.141.0)\n",
      "Requirement already satisfied, skipping upgrade: urllib3 in c:\\users\\bharadwaj satya\\anaconda3\\lib\\site-packages (from selenium) (1.24.2)\n"
     ]
    }
   ],
   "source": [
    "# installing selenium\n",
    "!pip install -U selenium\n",
    "#importing seleium\n",
    "from selenium import webdriver\n",
    "from selenium.common.exceptions import NoSuchElementException\n",
    "\n",
    "#For it to wait to scan our QR Code from our phone\n",
    "import time,sys\n"
   ]
  },
  {
   "cell_type": "code",
   "execution_count": 2,
   "metadata": {
    "ExecuteTime": {
     "end_time": "2020-08-31T01:10:25.344893Z",
     "start_time": "2020-08-31T01:10:25.318930Z"
    },
    "run_control": {
     "marked": false
    }
   },
   "outputs": [],
   "source": [
    "#Helper Functions\n",
    "def new_chat(Username):\n",
    "    new_chat = chrome_browser.find_element_by_xpath('//div[@class=\"_3qx7_\"]')\n",
    "    new_chat.click()\n",
    "    \n",
    "    new_user = chrome_browser.find_element_by_xpath('//div[@class=\"_3FRCZ copyable-text selectable-text\"]')\n",
    "    new_user.send_keys(Username)\n",
    "    \n",
    "    # very important to use sleep here because the next command can only run after this command has run, so thats why we need to give delay\n",
    "    time.sleep(1)\n",
    "    \n",
    "    try:\n",
    "        #copy x-path of the username\n",
    "        user_1 = chrome_browser.find_element_by_xpath('//span[@title= \"{}\"]'.format(Username))\n",
    "        #open the chat \n",
    "        user_1.click()\n",
    "        \n",
    "    except NoSuchElementException as se:\n",
    "        print('Given User \"{}\" not found in contact list'.format(Username))\n",
    "        \n",
    "    except Exception as e:\n",
    "        #CLosing Chrome Broswer\n",
    "        chrome_browser.close()\n",
    "        print('e')\n",
    "        sys.exit()"
   ]
  },
  {
   "cell_type": "code",
   "execution_count": 3,
   "metadata": {
    "ExecuteTime": {
     "end_time": "2020-08-31T01:10:42.648539Z",
     "start_time": "2020-08-31T01:10:25.353833Z"
    },
    "run_control": {
     "marked": false
    }
   },
   "outputs": [],
   "source": [
    "#Using chrome browser\n",
    "# Downloaded the driver from the website and below is the path of the driver\n",
    "chrome_browser = webdriver.Chrome(executable_path= '/Users/Bharadwaj Satya/Documents/WhatsappChatbot/chromedriver')\n",
    "\n",
    "#in chrome browser, we are going to the below URL\n",
    "chrome_browser.get('https://web.whatsapp.com/')\n",
    "\n",
    "#wating time to scan our qr code\n",
    "time.sleep(13)\n"
   ]
  },
  {
   "cell_type": "code",
   "execution_count": 4,
   "metadata": {
    "ExecuteTime": {
     "end_time": "2020-08-31T01:10:44.440929Z",
     "start_time": "2020-08-31T01:10:42.660527Z"
    },
    "run_control": {
     "marked": false
    }
   },
   "outputs": [],
   "source": [
    "# Username you want to send messege to (Has to be case sensitive)\n",
    "\n",
    "Username_list = ['Bharghav']\n",
    "\n",
    "for Username in Username_list:\n",
    "        \n",
    "    try:\n",
    "        #copy x-path of the username\n",
    "        user = chrome_browser.find_element_by_xpath('//span[@title= \"{}\"]'.format(Username))\n",
    "        #open the chat \n",
    "        user.click()\n",
    "        \n",
    "    except NoSuchElementException as se:\n",
    "        new_chat(Username)\n",
    "        \n",
    "\n",
    "    for i in range(5):\n",
    "        # finding messege box through x-path\n",
    "        messege_box = chrome_browser.find_element_by_xpath('//div[@class=\"_3uMse\"]')\n",
    "        \n",
    "        #writting messege in text box\n",
    "        messege_box.send_keys('hey!')\n",
    "    \n",
    "        #Note: dont add sleep here as the button will vanish\n",
    "\n",
    "        #finding x-path of button\n",
    "        button = chrome_browser.find_element_by_xpath('//button[@class=\"_1U1xa\"]')\n",
    "\n",
    "        #clicking button to send\n",
    "        button.click()\n",
    "        "
   ]
  },
  {
   "cell_type": "code",
   "execution_count": null,
   "metadata": {},
   "outputs": [],
   "source": []
  },
  {
   "cell_type": "code",
   "execution_count": null,
   "metadata": {},
   "outputs": [],
   "source": []
  },
  {
   "cell_type": "code",
   "execution_count": null,
   "metadata": {},
   "outputs": [],
   "source": []
  }
 ],
 "metadata": {
  "hide_input": false,
  "kernelspec": {
   "display_name": "Python 3",
   "language": "python",
   "name": "python3"
  },
  "language_info": {
   "codemirror_mode": {
    "name": "ipython",
    "version": 3
   },
   "file_extension": ".py",
   "mimetype": "text/x-python",
   "name": "python",
   "nbconvert_exporter": "python",
   "pygments_lexer": "ipython3",
   "version": "3.7.3"
  }
 },
 "nbformat": 4,
 "nbformat_minor": 2
}
