{
 "cells": [
  {
   "cell_type": "markdown",
   "metadata": {},
   "source": [
    "# Google Duo Caller"
   ]
  },
  {
   "cell_type": "code",
   "execution_count": 1,
   "metadata": {
    "ExecuteTime": {
     "end_time": "2020-08-28T14:41:10.992886Z",
     "start_time": "2020-08-28T14:41:06.179088Z"
    }
   },
   "outputs": [
    {
     "name": "stdout",
     "output_type": "stream",
     "text": [
      "Requirement already up-to-date: selenium in c:\\users\\bharadwaj satya\\anaconda3\\lib\\site-packages (3.141.0)\n",
      "Requirement already satisfied, skipping upgrade: urllib3 in c:\\users\\bharadwaj satya\\anaconda3\\lib\\site-packages (from selenium) (1.24.2)\n"
     ]
    }
   ],
   "source": [
    "# installing selenium\n",
    "!pip install -U selenium\n",
    "#importing seleium\n",
    "from selenium import webdriver\n",
    "from selenium.common.exceptions import NoSuchElementException\n",
    "\n",
    "#For it to wait to scan our QR Code from our phone\n",
    "import time,sys"
   ]
  },
  {
   "cell_type": "code",
   "execution_count": 2,
   "metadata": {
    "ExecuteTime": {
     "end_time": "2020-08-28T14:41:15.775157Z",
     "start_time": "2020-08-28T14:41:10.998876Z"
    }
   },
   "outputs": [],
   "source": [
    "#Using chrome browser\n",
    "# Downloaded the driver from the website and below is the path of the driver\n",
    "chrome_browser = webdriver.Chrome(executable_path= '/Users/Bharadwaj Satya/Documents/WhatsappChatbot/chromedriver')\n",
    "\n",
    "#in chrome browser, we are going to the below URL\n",
    "chrome_browser.get('https://duo.google.com/about/')"
   ]
  },
  {
   "cell_type": "code",
   "execution_count": 3,
   "metadata": {
    "ExecuteTime": {
     "end_time": "2020-08-28T14:41:15.922971Z",
     "start_time": "2020-08-28T14:41:15.778110Z"
    }
   },
   "outputs": [],
   "source": [
    "# Click on Try Google Duo\n",
    "Try_Duo_Button = chrome_browser.find_element_by_xpath('//div[@class=\"header__aside__buttons__button\"]')\n",
    "Try_Duo_Button.click()"
   ]
  },
  {
   "cell_type": "code",
   "execution_count": 4,
   "metadata": {
    "ExecuteTime": {
     "end_time": "2020-08-28T14:42:00.936084Z",
     "start_time": "2020-08-28T14:41:15.926954Z"
    }
   },
   "outputs": [
    {
     "name": "stdout",
     "output_type": "stream",
     "text": [
      "done\n"
     ]
    }
   ],
   "source": [
    "# Sign in\n",
    "time.sleep(45)\n",
    "print(\"done\")"
   ]
  },
  {
   "cell_type": "code",
   "execution_count": null,
   "metadata": {},
   "outputs": [],
   "source": [
    "# "
   ]
  }
 ],
 "metadata": {
  "hide_input": false,
  "kernelspec": {
   "display_name": "Python 3",
   "language": "python",
   "name": "python3"
  },
  "language_info": {
   "codemirror_mode": {
    "name": "ipython",
    "version": 3
   },
   "file_extension": ".py",
   "mimetype": "text/x-python",
   "name": "python",
   "nbconvert_exporter": "python",
   "pygments_lexer": "ipython3",
   "version": "3.7.3"
  }
 },
 "nbformat": 4,
 "nbformat_minor": 2
}
