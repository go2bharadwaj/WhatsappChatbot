{
 "cells": [
  {
   "cell_type": "markdown",
   "metadata": {},
   "source": [
    "# Whatsapp ChatBot "
   ]
  },
  {
   "cell_type": "markdown",
   "metadata": {},
   "source": [
    "## Installations "
   ]
  },
  {
   "cell_type": "code",
   "execution_count": 1,
   "metadata": {
    "ExecuteTime": {
     "end_time": "2020-08-25T18:35:31.214322Z",
     "start_time": "2020-08-25T18:35:26.241223Z"
    }
   },
   "outputs": [
    {
     "name": "stdout",
     "output_type": "stream",
     "text": [
      "Requirement already up-to-date: selenium in c:\\users\\bharadwaj satya\\anaconda3\\lib\\site-packages (3.141.0)\n",
      "Requirement already satisfied, skipping upgrade: urllib3 in c:\\users\\bharadwaj satya\\anaconda3\\lib\\site-packages (from selenium) (1.24.2)\n"
     ]
    }
   ],
   "source": [
    "# installing selenium\n",
    "!pip install -U selenium\n",
    "#importing seleium\n",
    "from selenium import webdriver"
   ]
  },
  {
   "cell_type": "markdown",
   "metadata": {},
   "source": [
    "## Imports & Direction"
   ]
  },
  {
   "cell_type": "code",
   "execution_count": 25,
   "metadata": {
    "ExecuteTime": {
     "end_time": "2020-08-25T18:41:34.452591Z",
     "start_time": "2020-08-25T18:41:17.156538Z"
    }
   },
   "outputs": [],
   "source": [
    "#For it to wait to scan our QR Code from our phone\n",
    "import time\n",
    "\n",
    "#Using chrome browser\n",
    "# Downloaded the driver from the website and below is the path of the driver\n",
    "chrome_browser = webdriver.Chrome(executable_path= '/Users/Bharadwaj Satya/Documents/WhatsappChatbot/chromedriver')\n",
    "\n",
    "#in chrome browser, we are going to the below URL\n",
    "chrome_browser.get('https://web.whatsapp.com/')\n",
    "\n",
    "#wating time to scan our qr code\n",
    "time.sleep(13)"
   ]
  },
  {
   "cell_type": "markdown",
   "metadata": {},
   "source": [
    "## Fun Stuff"
   ]
  },
  {
   "cell_type": "code",
   "execution_count": 26,
   "metadata": {
    "ExecuteTime": {
     "end_time": "2020-08-25T18:41:34.834499Z",
     "start_time": "2020-08-25T18:41:34.457578Z"
    }
   },
   "outputs": [],
   "source": [
    "# Username you want to send messege to (Has to be case sensitive)\n",
    "\n",
    "Username = 'Mom'\n",
    "\n",
    "#copy x-path of the username\n",
    "user = chrome_browser.find_element_by_xpath('//span[@title= \"{}\"]'.format(Username))\n",
    "\n",
    "#open the chat \n",
    "user.click()"
   ]
  },
  {
   "cell_type": "code",
   "execution_count": 27,
   "metadata": {
    "ExecuteTime": {
     "end_time": "2020-08-25T18:41:35.147271Z",
     "start_time": "2020-08-25T18:41:34.839762Z"
    }
   },
   "outputs": [],
   "source": [
    "# finding messege box through x-path\n",
    "\n",
    "messege_box = chrome_browser.find_element_by_xpath('//div[@class=\"_3uMse\"]')\n",
    "\n",
    "#writting messege in text box\n",
    "messege_box.send_keys('Binod')"
   ]
  },
  {
   "cell_type": "code",
   "execution_count": 28,
   "metadata": {
    "ExecuteTime": {
     "end_time": "2020-08-25T18:41:35.689668Z",
     "start_time": "2020-08-25T18:41:35.153799Z"
    }
   },
   "outputs": [],
   "source": [
    "#finding x-path of button\n",
    "button = chrome_browser.find_element_by_xpath('//button[@class=\"_1U1xa\"]')\n",
    "\n",
    "#clicking button to send\n",
    "button.click()"
   ]
  },
  {
   "cell_type": "code",
   "execution_count": 29,
   "metadata": {
    "ExecuteTime": {
     "end_time": "2020-08-25T18:41:49.555022Z",
     "start_time": "2020-08-25T18:41:35.694642Z"
    }
   },
   "outputs": [],
   "source": [
    "# writting binod :P\n",
    "for i in range(100):\n",
    "    messege_box.send_keys('BINOD \\n')"
   ]
  },
  {
   "cell_type": "code",
   "execution_count": null,
   "metadata": {},
   "outputs": [],
   "source": []
  }
 ],
 "metadata": {
  "hide_input": false,
  "kernelspec": {
   "display_name": "Python 3",
   "language": "python",
   "name": "python3"
  },
  "language_info": {
   "codemirror_mode": {
    "name": "ipython",
    "version": 3
   },
   "file_extension": ".py",
   "mimetype": "text/x-python",
   "name": "python",
   "nbconvert_exporter": "python",
   "pygments_lexer": "ipython3",
   "version": "3.7.3"
  }
 },
 "nbformat": 4,
 "nbformat_minor": 2
}
